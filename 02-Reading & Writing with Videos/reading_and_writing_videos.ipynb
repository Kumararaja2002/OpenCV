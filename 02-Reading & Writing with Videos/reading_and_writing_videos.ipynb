{
 "cells": [
  {
   "cell_type": "code",
   "execution_count": 1,
   "id": "28a9e894",
   "metadata": {},
   "outputs": [],
   "source": [
    "import cv2"
   ]
  },
  {
   "cell_type": "code",
   "execution_count": 2,
   "id": "eb431bb6",
   "metadata": {},
   "outputs": [],
   "source": [
    "# Load the Video\n",
    "\n",
    "video = cv2.VideoCapture(\"./mountain.mp4\")"
   ]
  },
  {
   "cell_type": "code",
   "execution_count": 3,
   "id": "e5e08dc7",
   "metadata": {},
   "outputs": [],
   "source": [
    "# Display the Video\n",
    "\n",
    "# Loop to read and display video frames\n",
    "while True:\n",
    "    ret, frame = video.read()  # Read a frame from the video, ret will return the boolean values, frame will return np.arrays\n",
    "    if not ret:\n",
    "        break  # Exit loop if no frame is returned (end of video)\n",
    "    cv2.imshow(\"Video Frame\", frame)  # Display the current frame\n",
    "    if cv2.waitKey(1) & 0xFF == ord('q'):\n",
    "        break  # Exit loop if 'q' key is pressed\n",
    "\n",
    "# T0 ---> f1\n",
    "# wait 1 ms\n",
    "# # T1 ---> f2\n",
    "\n",
    "video.release()\n",
    "cv2.destroyAllWindows()"
   ]
  },
  {
   "cell_type": "code",
   "execution_count": 5,
   "id": "5b674a50",
   "metadata": {},
   "outputs": [],
   "source": [
    "# Write the Video\n",
    "\n",
    "video = cv2.VideoCapture('./mountain.mp4')\n",
    "\n",
    "fourcc = cv2.VideoWriter_fourcc(*'mp4v')\n",
    "\n",
    "width = int(video.get(cv2.CAP_PROP_FRAME_WIDTH))\n",
    "heigth = int(video.get(cv2.CAP_PROP_FRAME_HEIGHT))\n",
    "\n",
    "output = cv2.VideoWriter(\"./output.mp4\", fourcc, 30, (width, heigth))\n",
    "\n",
    "while True:\n",
    "    ret, frame = video.read()\n",
    "    if not ret:\n",
    "        break\n",
    "    output.write(frame)\n",
    "\n",
    "output.release()\n",
    "video.release()\n",
    "cv2.destroyAllWindows()\n"
   ]
  },
  {
   "cell_type": "code",
   "execution_count": 6,
   "id": "816f8a7c",
   "metadata": {},
   "outputs": [],
   "source": [
    "# Write a video with updated frames\n",
    "\n",
    "video = cv2.VideoCapture(\"./mountain.mp4\")\n",
    "\n",
    "fourcc = cv2.VideoWriter_fourcc(*\"mp4v\")\n",
    "\n",
    "width = int(video.get(cv2.CAP_PROP_FRAME_WIDTH))\n",
    "height = int(video.get(cv2.CAP_PROP_FRAME_HEIGHT))\n",
    "\n",
    "out = cv2.VideoWriter(\"./output_new.mp4\", fourcc, 30, (width, height))\n",
    "\n",
    "while True:\n",
    "    ret, frame = video.read()\n",
    "    if not ret:\n",
    "        break\n",
    "    frame = frame + 20\n",
    "    out.write(frame)\n",
    "\n",
    "out.release()\n",
    "video.release()\n",
    "cv2.destroyAllWindows()"
   ]
  },
  {
   "cell_type": "code",
   "execution_count": null,
   "id": "88d2aff9",
   "metadata": {},
   "outputs": [],
   "source": []
  }
 ],
 "metadata": {
  "kernelspec": {
   "display_name": "openCV_venv",
   "language": "python",
   "name": "python3"
  },
  "language_info": {
   "codemirror_mode": {
    "name": "ipython",
    "version": 3
   },
   "file_extension": ".py",
   "mimetype": "text/x-python",
   "name": "python",
   "nbconvert_exporter": "python",
   "pygments_lexer": "ipython3",
   "version": "3.11.0"
  }
 },
 "nbformat": 4,
 "nbformat_minor": 5
}
