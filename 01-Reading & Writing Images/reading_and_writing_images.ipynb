{
 "cells": [
  {
   "cell_type": "code",
   "execution_count": 5,
   "id": "027af827",
   "metadata": {},
   "outputs": [],
   "source": [
    "import cv2"
   ]
  },
  {
   "cell_type": "code",
   "execution_count": 8,
   "id": "07c44219",
   "metadata": {},
   "outputs": [],
   "source": [
    "# Read the image\n",
    "\n",
    "image = cv2.imread('.\\mountain.jpg')"
   ]
  },
  {
   "cell_type": "code",
   "execution_count": 9,
   "id": "a17af020",
   "metadata": {},
   "outputs": [
    {
     "name": "stdout",
     "output_type": "stream",
     "text": [
      "Image Loaded successfully!\n"
     ]
    }
   ],
   "source": [
    "# Chech if image is loaded successfully\n",
    "\n",
    "if image is None:\n",
    "    print(\"Error: Could not load the image.\")\n",
    "\n",
    "else:\n",
    "    print('Image Loaded successfully!')"
   ]
  },
  {
   "cell_type": "code",
   "execution_count": null,
   "id": "8b0c89ce",
   "metadata": {},
   "outputs": [],
   "source": [
    "# Display the image\n",
    "\n",
    "cv2.imshow(\"Image Window\",image) # this will create a new window to display the image\n",
    "cv2.waitKey(0)\n",
    "cv2.destroyAllWindows()"
   ]
  },
  {
   "cell_type": "code",
   "execution_count": 13,
   "id": "39c2f656",
   "metadata": {},
   "outputs": [
    {
     "data": {
      "text/plain": [
       "True"
      ]
     },
     "execution_count": 13,
     "metadata": {},
     "output_type": "execute_result"
    }
   ],
   "source": [
    "# Write the image\n",
    "\n",
    "new_image = image + 30\n",
    "cv2.imwrite(\"./output.jpg\", new_image)"
   ]
  },
  {
   "cell_type": "code",
   "execution_count": null,
   "id": "274f9f03",
   "metadata": {},
   "outputs": [],
   "source": []
  }
 ],
 "metadata": {
  "kernelspec": {
   "display_name": "openCV_venv",
   "language": "python",
   "name": "python3"
  },
  "language_info": {
   "codemirror_mode": {
    "name": "ipython",
    "version": 3
   },
   "file_extension": ".py",
   "mimetype": "text/x-python",
   "name": "python",
   "nbconvert_exporter": "python",
   "pygments_lexer": "ipython3",
   "version": "3.11.0"
  }
 },
 "nbformat": 4,
 "nbformat_minor": 5
}
